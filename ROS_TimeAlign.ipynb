{
  "nbformat": 4,
  "nbformat_minor": 0,
  "metadata": {
    "colab": {
      "provenance": []
    },
    "kernelspec": {
      "name": "python3",
      "display_name": "Python 3"
    },
    "language_info": {
      "name": "python"
    }
  },
  "cells": [
    {
      "cell_type": "markdown",
      "source": [
        "#Merge a set of bag files to a large single bag file#"
      ],
      "metadata": {
        "id": "DXxOaNXYQAGc"
      }
    },
    {
      "cell_type": "markdown",
      "source": [
        "Description: The beobot robot has 5 camera streams and a pointcloud stream. The data is recorded as a rosbag file and consists of a stream of images and pointclouds along with other metadata and streams. The images are recorded at 15Hz and the pointclouds are recorded at 10Hz. Since the bandwidth on a single computer is limited, we placed 5 computers on the robot. The LiDAR and a camera sensor is connected to a computer and the remaining 4 cameras are connected to 4 other computers (each camera connected to a single computer). A specific data collection in an arbitrary day would consist of 5 folders: cam1, cam2, cam3, cam4 and cam5. Each of these folders would consist of a set of .bag corresponding to a data collection \"session\" on that day. Ideally, you should find an equal number of bag files in each of these folders, but it might so happen that a connection to a specific camera got disrupted due to reasons like the connector getting loose etc. The objective of this issue is to combine the streams of all the bag files into a single bag file, corresponding to a specific session, by aligning the timestamps since all the bag files are recorded separately. Please state your assumptions and there are many of ways of solving this problem. Your program has to be robust to missing bag files for a camera for that specific session, different bag file lengths/number of messages for different cameras etc.\n",
        "\n",
        "Github Issue link: https://github.com/klekkala/vision_toolkit/issues/2\n",
        "\n",
        "Input folder: raw_data/2023_\\*_\\*/cam{1..5}/*.bag\n",
        "\n",
        "Output folder: merged_bag/2023_\\*_\\*/session*.bag\n",
        "\n"
      ],
      "metadata": {
        "id": "RfEuYShmQOiF"
      }
    },
    {
      "cell_type": "code",
      "execution_count": null,
      "metadata": {
        "id": "iJ79CmfmP5ZL"
      },
      "outputs": [],
      "source": [
        "!pip install bagpy\n",
        "!pip install rosbags\n",
        "#Use pcl_ros"
      ]
    },
    {
      "cell_type": "code",
      "source": [
        "from google.colab import drive\n",
        "drive.mount('/content/drive')\n",
        "%cd /content/drive/MyDrive/USCilab3D/data"
      ],
      "metadata": {
        "id": "31fQ9E1nXm9h"
      },
      "execution_count": null,
      "outputs": []
    },
    {
      "cell_type": "markdown",
      "source": [
        "## Primary objective\n",
        "The goal of this program is to merge multiple bag files into a singular bag file.\n",
        "\n",
        "Our approach to solve this problem is by implmenting our own python script that will allow us to merge multiple bag files using the rosbag Python API. We will also be importing bagpy and read the content of these bag files.\n",
        "\n",
        "First step will be by creating a directory called *merged_bag/*. This will be the place where we store our results. Then proceed to move onto the directory."
      ],
      "metadata": {
        "id": "kAfqWVGhTQPh"
      }
    },
    {
      "cell_type": "code",
      "source": [
        "%cd /content/drive/MyDrive\n",
        "%mkdir merged_bag\n",
        "%cd /content/drive/MyDrive/merged_bag\n",
        "%ls"
      ],
      "metadata": {
        "colab": {
          "base_uri": "https://localhost:8080/"
        },
        "id": "gnH_urBwnkkI",
        "outputId": "90e7246b-5e6c-455a-b5f8-15a8f3951f3b"
      },
      "execution_count": null,
      "outputs": [
        {
          "output_type": "stream",
          "name": "stdout",
          "text": [
            "/content/drive/MyDrive\n",
            "/content/drive/MyDrive/merged_bag\n"
          ]
        }
      ]
    },
    {
      "cell_type": "markdown",
      "source": [
        "## The Python script\n",
        "***IMPORTANT***: The job of ensuring a good and valid bag file is up to the user. The script is designed to merge multiple bag files and store the output to a designated directory. The job of ensuring the user receives the desired bag file will be the user's responsibility.\n",
        "\\\n",
        "\\\n",
        "The following code is the script. I have written it and stored it in the merged_bag/ directory we created earlier. You can comment out Line 2 to see the Python code with color.\n",
        "\n",
        "I used *os* and *argparse* to help parsing user input and creating the destination directory. *tqdm* is utilized for accessibility. It will prompt user with progress bar to ensure the program is running smoothly.\n",
        "\n",
        "The offset is calculated using a reference time stamp which we calculated with the first given bag file in input. This aligns all of the timestamps to ensure even when the hardware itself has different system time, the script will still treat them as the same session.\n"
      ],
      "metadata": {
        "id": "14Wti6vM5vFq"
      }
    },
    {
      "cell_type": "code",
      "source": [
        "## Feel free to comment out the write file line to see the code with color\n",
        "# %%writefile merge.py\n",
        "## Author: Leo Lee\n",
        "## Date: 1/19/2024\n",
        "import bagpy\n",
        "import rosbag\n",
        "import os\n",
        "import argparse\n",
        "from tqdm import tqdm\n",
        "\n",
        "## I have used following list of resources as inspiration for my code\n",
        "## https://gist.github.com/NikolausDemmel/8944211#file-rosbag_merge-py\n",
        "## https://answers.ros.org/question/318536/understanding-rosbag-timestamps/\n",
        "## https://answers.ros.org/question/10683/is-there-a-way-to-merge-bag-files/\n",
        "## https://wiki.ros.org/rosbag/Cookbook\n",
        "## https://chat.openai.com/\n",
        "## https://docs.python.org/3/library/os.html#os.makedirs\n",
        "## https://jmscslgroup.github.io/bagpy/Reading_bagfiles_from_cloud.html\n",
        "## The bagpy documentation is absolutely atrocious ^^\n",
        "\n",
        "def combine_bag_files(output_bag_file, *input_bag_files):\n",
        "  ## First we define a reference time stamp for baseline.\n",
        "  ## We use the first input file in the parameter\n",
        "  reference_bag = input_bag_files[0]\n",
        "  with rosbag.Bag(reference_bag, 'r') as ref_bag:\n",
        "    _, _, ref_start_time = next(ref_bag.read_messages())\n",
        "\n",
        "  ## Then we create an offset for each of the input files\n",
        "  ## The difference of the time will be stored in a hash map\n",
        "  ## This offset will allow us to align the time correctly\n",
        "  offsets = {}\n",
        "  for input_bag in tqdm(input_bag_files, desc='Calculating offset'):\n",
        "    with rosbag.Bag(input_bag, 'r') as bag:\n",
        "      _, _, bag_start_time = next(bag.read_messages())\n",
        "      offset = ref_start_time - bag_start_time\n",
        "      offsets[input_bag] = offset\n",
        "\n",
        "  ## Open the output file with write permission\n",
        "  ## Write the topic, message, and timestamp into the new output file\n",
        "  ## Adjust the time by the offset\n",
        "  with rosbag.Bag(output_bag_file, 'w') as output:\n",
        "    for infile in input_bag_files:\n",
        "      with rosbag.Bag(infile, 'r') as in_bag:\n",
        "        for topic, msg, t in tqdm(in_bag, desc='Writing new messages from {}'.format(infile)):\n",
        "          new_t = t + offsets[infile]\n",
        "          output.write(topic, msg, new_t)\n",
        "\n",
        "if __name__ == \"__main__\":\n",
        "    # Set up command-line argument parser\n",
        "    parser = argparse.ArgumentParser(description='Merge and synchronize multiple bag files.')\n",
        "    parser.add_argument('-s', '--session', nargs=1, required = True, help='Session number')\n",
        "    parser.add_argument('-o', '--output', nargs=1, required=True, help='Output bag file')\n",
        "    parser.add_argument('-i', '--input', nargs='+', required=True, help='Input bag files')\n",
        "\n",
        "    # Parse command-line arguments\n",
        "    args = parser.parse_args()\n",
        "    if not os.path.exists(args.output[0]):\n",
        "      os.makedirs(args.output[0])\n",
        "    # Combine the bag files\n",
        "    combine_bag_files(args.output[0]+'session{}.bag'.format(args.session[0]), *args.input)"
      ],
      "metadata": {
        "colab": {
          "base_uri": "https://localhost:8080/"
        },
        "id": "A8PmSpWaUdZt",
        "outputId": "852ce600-e503-4f99-add3-ff86b7b1e474"
      },
      "execution_count": null,
      "outputs": [
        {
          "output_type": "stream",
          "name": "stdout",
          "text": [
            "Writing merge.py\n"
          ]
        }
      ]
    },
    {
      "cell_type": "markdown",
      "source": [
        "## Access the data\n",
        "We will move into the folder where the bag files are located. This is usually located at */content/drive/MyDrive/USCilab3D/data/raw_data/*. You will need to choose the folder yourself."
      ],
      "metadata": {
        "id": "r3pgxBqa6Mj8"
      }
    },
    {
      "cell_type": "code",
      "source": [
        "%ls\n",
        "%cd /content/drive/MyDrive/USCilab3D/data/raw_data/2023_03_28/cam1/\n",
        "%ls -l\n",
        "%cd /content/drive/MyDrive/USCilab3D/data/raw_data/2023_03_28/cam2/\n",
        "%ls -l\n",
        "%cd /content/drive/MyDrive/USCilab3D/data/raw_data/2023_03_28/cam3/\n",
        "%ls -l\n",
        "%cd /content/drive/MyDrive/USCilab3D/data/raw_data/2023_03_28/cam4/\n",
        "%ls -l\n",
        "%cd /content/drive/MyDrive/USCilab3D/data/raw_data/2023_03_28/cam5/\n",
        "%ls -l\n",
        "%cd /content/drive/MyDrive/USCilab3D/data/raw_data/2023_03_28/"
      ],
      "metadata": {
        "colab": {
          "base_uri": "https://localhost:8080/"
        },
        "id": "RHzsAdAQpOCN",
        "outputId": "999f5fee-c01d-477c-bfd9-3c7cbaa3f5dc"
      },
      "execution_count": null,
      "outputs": [
        {
          "output_type": "stream",
          "name": "stdout",
          "text": [
            "merge.py\n",
            "/content/drive/.shortcut-targets-by-id/186BsJkqMgvSzbdsvqM3ay8XFeupZu6Yg/USCilab3D/data/raw_data/2023_03_28/cam1\n",
            "total 16554414\n",
            "-r-------- 1 root root 9506924179 Jan 12 00:31 test_2023-03-28-11-29-55.bag\n",
            "dr-x------ 2 root root       4096 Jan 12 19:00 \u001b[0m\u001b[01;34mtest_2023-03-28-11-39-28\u001b[0m/\n",
            "-r-------- 1 root root 3329860226 Jan 12 00:28 test_2023-03-28-11-39-28.bag\n",
            "-r-------- 1 root root 4114930354 Jan 12 00:29 test_2023-03-28-11-46-59.bag\n",
            "/content/drive/.shortcut-targets-by-id/186BsJkqMgvSzbdsvqM3ay8XFeupZu6Yg/USCilab3D/data/raw_data/2023_03_28/cam2\n",
            "total 1519184\n",
            "-r-------- 1 root root 1009320349 Jan 12 00:31 test_2023-12-30-16-46-21.bag\n",
            "dr-x------ 2 root root       4096 Jan 12 19:00 \u001b[0m\u001b[01;34mtest_2023-12-30-16-55-53\u001b[0m/\n",
            "-r-------- 1 root root  288579182 Jan 12 00:31 test_2023-12-30-16-55-53.bag\n",
            "-r-------- 1 root root  257739879 Jan 12 00:31 test_2023-12-30-17-03-25.bag\n",
            "/content/drive/.shortcut-targets-by-id/186BsJkqMgvSzbdsvqM3ay8XFeupZu6Yg/USCilab3D/data/raw_data/2023_03_28/cam3\n",
            "total 1536794\n",
            "-r-------- 1 root root 1018778006 Jan 12 00:32 test_2023-12-30-16-46-21.bag\n",
            "dr-x------ 2 root root       4096 Jan 12 19:00 \u001b[0m\u001b[01;34mtest_2023-12-30-16-55-53\u001b[0m/\n",
            "-r-------- 1 root root  297286054 Jan 12 00:32 test_2023-12-30-16-55-53.bag\n",
            "-r-------- 1 root root  257608273 Jan 12 00:32 test_2023-12-30-17-03-25.bag\n",
            "/content/drive/.shortcut-targets-by-id/186BsJkqMgvSzbdsvqM3ay8XFeupZu6Yg/USCilab3D/data/raw_data/2023_03_28/cam4\n",
            "total 1576032\n",
            "-r-------- 1 root root 1043302744 Jan 12 00:32 test_2023-03-02-05-01-04.bag\n",
            "dr-x------ 2 root root       4096 Jan 12 19:01 \u001b[0m\u001b[01;34mtest_2023-03-02-05-10-37\u001b[0m/\n",
            "-r-------- 1 root root  318420045 Jan 12 00:32 test_2023-03-02-05-10-37.bag\n",
            "dr-x------ 2 root root       4096 Jan 12 07:03 \u001b[01;34mtest_2023-03-02-05-18-08\u001b[0m/\n",
            "-r-------- 1 root root  252124213 Jan 12 00:32 test_2023-03-02-05-18-08.bag\n",
            "/content/drive/.shortcut-targets-by-id/186BsJkqMgvSzbdsvqM3ay8XFeupZu6Yg/USCilab3D/data/raw_data/2023_03_28/cam5\n",
            "total 1450555\n",
            "-r-------- 1 root root 954633370 Jan 12 00:33 test_2023-03-02-05-00-52.bag\n",
            "dr-x------ 2 root root      4096 Jan 12 19:01 \u001b[0m\u001b[01;34mtest_2023-03-02-05-10-25\u001b[0m/\n",
            "-r-------- 1 root root 288435379 Jan 12 00:32 test_2023-03-02-05-10-25.bag\n",
            "-r-------- 1 root root 242294187 Jan 12 00:32 test_2023-03-02-05-17-56.bag\n",
            "/content/drive/.shortcut-targets-by-id/186BsJkqMgvSzbdsvqM3ay8XFeupZu6Yg/USCilab3D/data/raw_data/2023_03_28\n"
          ]
        }
      ]
    },
    {
      "cell_type": "markdown",
      "source": [
        "## Running the script\n",
        "The script has 3 required arguments: **Session**, **Output**, **Input**. All of the arguments are required and session number and output are limited to 1 argument only.\n",
        "\n",
        "**Session**: An integer. It will represent the merged bag file's session.\n",
        "\n",
        "**Output**: A directory. This should be the directory where the output will be. Usually it should be in /content/drive/MyDrive/merged_bag/2023_\\*_\\*/. The user needs write permission to this folder.\n",
        "\n",
        "**Input**: (.bag) files. These files should be the files the user want to merge. There are can any amount of files under this flag as long as they are all (.bag) files.\n",
        "\n",
        "**Output file**: The output file is called 'session\\*.bag'. It can be found in the output directory the user specified when running the script.\n",
        "\n",
        "This command should create a file of around 12GB size in the merge_bag/2023_\\*_\\*/ directory."
      ],
      "metadata": {
        "id": "21o2-GkN6izj"
      }
    },
    {
      "cell_type": "code",
      "source": [
        "## Testing, only 3 bag files\n",
        "#!python3 /content/drive/MyDrive/merged_bag/merge.py -s 1 -o /content/drive/MyDrive/merged_bag/2023_03_28/ -i ./cam1/test_2023-03-28-11-29-55.bag ./cam2/test_2023-12-30-16-46-21.bag ./cam3/test_2023-12-30-16-46-21.bag\n",
        "\n",
        "## First session\n",
        "!python3 /content/drive/MyDrive/merged_bag/merge.py -s 1 -o /content/drive/MyDrive/merged_bag/2023_03_28/ -i ./cam1/test_2023-03-28-11-29-55.bag ./cam2/test_2023-12-30-16-46-21.bag ./cam3/test_2023-12-30-16-46-21.bag ./cam4/test_2023-03-02-05-01-04.bag ./cam5/test_2023-03-02-05-00-52.bag\n",
        "\n",
        "## Second session\n",
        "# !python3 /content/drive/MyDrive/merged_bag/merge.py -s 2 -o /content/drive/MyDrive/merged_bag/2023_03_28/ -i ./cam1/test_2023-03-28-11-39-28.bag ./cam2/test_2023-12-30-16-55-53.bag ./cam3/test_2023-12-30-16-55-53.bag ./cam4/test_2023-03-02-05-10-37.bag ./cam5/test_2023-03-02-05-10-25.bag\n",
        "\n",
        "## Third session\n",
        "# !python3 /content/drive/MyDrive/merged_bag/merge.py -s 3 -o /content/drive/MyDrive/merged_bag/2023_03_28/ -i ./cam1/test_2023-03-28-11-46-59.bag ./cam2/test_2023-12-30-17-03-25.bag ./cam3/test_2023-12-30-17-03-25.bag ./cam4/test_2023-03-02-05-18-08.bag ./cam5/test_2023-03-02-05-17-56.bag"
      ],
      "metadata": {
        "colab": {
          "base_uri": "https://localhost:8080/"
        },
        "id": "QL2VVT3ipo4X",
        "outputId": "0f69e03d-4c56-458a-8427-29418317a1fe"
      },
      "execution_count": null,
      "outputs": [
        {
          "output_type": "stream",
          "name": "stdout",
          "text": [
            "Calculating offset: 100% 5/5 [00:27<00:00,  5.53s/it]\n",
            "Writing new messages from ./cam1/test_2023-03-28-11-29-55.bag: 323504it [04:05, 1317.96it/s]\n",
            "Writing new messages from ./cam2/test_2023-12-30-16-46-21.bag: 223737it [01:25, 2617.61it/s]\n",
            "Writing new messages from ./cam3/test_2023-12-30-16-46-21.bag: 226434it [01:19, 2862.91it/s]\n",
            "Writing new messages from ./cam4/test_2023-03-02-05-01-04.bag: 221630it [01:30, 2453.65it/s]\n",
            "Writing new messages from ./cam5/test_2023-03-02-05-00-52.bag: 224150it [01:19, 2806.04it/s]\n"
          ]
        }
      ]
    },
    {
      "cell_type": "markdown",
      "source": [
        "## Checking the result\n",
        "Great! Now the files have been merged and created. We will now check the result using an online bag file viewer called Foxglove. It can be found at https://foxglove.dev/ros. Download the file from Google Drive and upload it to the website."
      ],
      "metadata": {
        "id": "i0zrlECo-OJ5"
      }
    },
    {
      "cell_type": "code",
      "source": [
        "%cd /content/drive/MyDrive/merged_bag/2023_03_28/\n",
        "%ls -l"
      ],
      "metadata": {
        "colab": {
          "base_uri": "https://localhost:8080/"
        },
        "id": "Zzq_yFnF93jP",
        "outputId": "7ce6cc7d-02f4-4844-f37d-32a232dec8e6"
      },
      "execution_count": null,
      "outputs": [
        {
          "output_type": "stream",
          "name": "stdout",
          "text": [
            "/content/drive/MyDrive/merged_bag/2023_03_28\n",
            "total 13215761\n",
            "-rw------- 1 root root 13532938455 Jan 20 01:59 session1.bag\n"
          ]
        }
      ]
    },
    {
      "cell_type": "markdown",
      "source": [
        "## Conclusion\n",
        "This script will merge user inputted files into an output file located at the user inputted output directory. The name of the file will be based on the session number the user inputted as well. Some of the main drawbacks regarding this script is the lack of automation. I was hoping to write a script that will open the 2023\\_\\*\\_\\*/ folder automatically and merge the files inside each of the 5 camera folders. However, some of the main difficulties I encountered are:\n",
        "\n",
        "- Timestamps inside the folders are very off. Some of the files are dated in March and some are dated in December. I emailed Henghui and Henghui said this is the result of hardware having different system time onboard. To resolve this issue, I calculated the offset and applied them to the messages.\n",
        "\n",
        "- If a camera folder, let's say cam2, is missing a session 2 bag file. How can the script tell that a bag file with time stamp in December 2023 should be in the same session as the session 3 bag file from the remaining other camera folders. The timestamps are so off to begin with that I found difficulties working with an autonomous option. An attempt to solve this issue is to do this process manually. By having user inputs, the script can process these bag files without worrying if the files are incorrect. The burden of having a valid bag file will fall on the user and not the script.\n",
        "\n",
        "## Possible Errors\n",
        "There are some errors that occur when using the Foxglove studio is view the merged bag file since the file is so large. An error message such as \"The requested file could not be read, typically due to permission problems that have occurred after a reference to a file was acquired.\" could appear. This is mainly due to the restrain with the arrayBuffer built into the browser. More info can be found here: https://stackoverflow.com/questions/63376248/domexception-the-requested-file-could-not-be-read-typically-due-to-permission.  I believe this is an issue with the ROS viewer by Foxglove rather than an issue with the script. Moreover, I am aware of the compression flag for writing the bag file but I am not sure how it will affect the quality of the data stored inside each bag files.\n",
        "\n",
        "**Update**: Using the desktop version of Foxglove Studio seems to work a lot better.\n",
        "\n",
        "\n",
        "## Future goals\n",
        "I am hoping to alter the script in a way such that the script will take the size of the files into account and group the files in similar size into a session. However, possible errors such as similar sizes files are misplaced in the wrong bucket can arise. Or utilize the timestamp of when these files are created to help sort the files into buckets. Interestingly, the online viewer Foxglove can still view the image messages even if they are out of sequence. I believe this is because it utilizes sql to sort the messages before displaying. I read this somewhere in the ROS forum but is not too sure. I would like to also sort the messages after merging to decrease the load on the Studio."
      ],
      "metadata": {
        "id": "c8wdhFcMG7pC"
      }
    }
  ]
}